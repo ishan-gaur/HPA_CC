{
 "cells": [
  {
   "cell_type": "code",
   "execution_count": 1,
   "metadata": {},
   "outputs": [],
   "source": [
    "%load_ext autoreload\n",
    "%autoreload 2\n",
    "\n",
    "from sklearn.mixture import GaussianMixture\n",
    "from sklearn.decomposition import PCA\n",
    "import numpy as np\n",
    "import math\n",
    "import torch\n",
    "import pickle as pkl\n",
    "from tqdm import tqdm\n",
    "from HPA_CC.data.dataset import DatasetFS\n",
    "from HPA_CC.utils.pseudotime import intensities_to_pseudotime\n",
    "import matplotlib.pyplot as plt\n",
    "import seaborn as sns\n",
    "import pandas as pd\n",
    "from config import FUCCI_DS_PATH, FUCCI_NAME, OUTPUT_DIR\n",
    "from multiprocessing import Pool\n",
    "from argparse import ArgumentParser"
   ]
  },
  {
   "cell_type": "code",
   "execution_count": 2,
   "metadata": {},
   "outputs": [],
   "source": [
    "fucci_ds = DatasetFS(FUCCI_DS_PATH)\n",
    "\n",
    "images_per_well = [len(fucci_ds.images_in_well(well)) for well in fucci_ds.well_list]\n",
    "plt.hist(images_per_well)\n",
    "plt.savefig(OUTPUT_DIR / \"images_per_well.png\")\n",
    "plt.xlabel(\"Number of images per well\")\n",
    "plt.ylabel(\"Number of wells\")\n",
    "plt.title(f\"Distribution of Images per Well in the FUCCI dataset\")\n",
    "plt.close()"
   ]
  },
  {
   "cell_type": "code",
   "execution_count": 12,
   "metadata": {},
   "outputs": [
    {
     "name": "stderr",
     "output_type": "stream",
     "text": [
      "Plotting Pseudotime distributions:   0%|          | 0/136 [00:00<?, ?it/s]"
     ]
    },
    {
     "name": "stderr",
     "output_type": "stream",
     "text": [
      "/home/ishang/miniconda3/envs/hpa-cc/lib/python3.9/site-packages/numpy/lib/histograms.py:885: RuntimeWarning: divide by zero encountered in divide\n",
      "  return n/db/n.sum(), bin_edges\n",
      "/home/ishang/miniconda3/envs/hpa-cc/lib/python3.9/site-packages/numpy/lib/histograms.py:885: RuntimeWarning: invalid value encountered in divide\n",
      "  return n/db/n.sum(), bin_edges\n",
      "/home/ishang/miniconda3/envs/hpa-cc/lib/python3.9/site-packages/numpy/lib/histograms.py:885: RuntimeWarning: invalid value encountered in divide\n",
      "  return n/db/n.sum(), bin_edges\n",
      "/home/ishang/miniconda3/envs/hpa-cc/lib/python3.9/site-packages/numpy/lib/histograms.py:885: RuntimeWarning: divide by zero encountered in divide\n",
      "  return n/db/n.sum(), bin_edges\n",
      "/home/ishang/miniconda3/envs/hpa-cc/lib/python3.9/site-packages/numpy/lib/histograms.py:885: RuntimeWarning: invalid value encountered in divide\n",
      "  return n/db/n.sum(), bin_edges\n",
      "/home/ishang/miniconda3/envs/hpa-cc/lib/python3.9/site-packages/numpy/lib/histograms.py:885: RuntimeWarning: divide by zero encountered in divide\n",
      "  return n/db/n.sum(), bin_edges\n",
      "/home/ishang/miniconda3/envs/hpa-cc/lib/python3.9/site-packages/numpy/lib/histograms.py:885: RuntimeWarning: invalid value encountered in divide\n",
      "  return n/db/n.sum(), bin_edges\n",
      "/home/ishang/miniconda3/envs/hpa-cc/lib/python3.9/site-packages/numpy/lib/histograms.py:885: RuntimeWarning: divide by zero encountered in divide\n",
      "  return n/db/n.sum(), bin_edges\n",
      "/home/ishang/miniconda3/envs/hpa-cc/lib/python3.9/site-packages/numpy/lib/histograms.py:885: RuntimeWarning: invalid value encountered in divide\n",
      "  return n/db/n.sum(), bin_edges\n",
      "/home/ishang/miniconda3/envs/hpa-cc/lib/python3.9/site-packages/numpy/lib/histograms.py:885: RuntimeWarning: divide by zero encountered in divide\n",
      "  return n/db/n.sum(), bin_edges\n",
      "/home/ishang/miniconda3/envs/hpa-cc/lib/python3.9/site-packages/numpy/lib/histograms.py:885: RuntimeWarning: invalid value encountered in divide\n",
      "  return n/db/n.sum(), bin_edges\n",
      "/home/ishang/miniconda3/envs/hpa-cc/lib/python3.9/site-packages/numpy/lib/histograms.py:885: RuntimeWarning: divide by zero encountered in divide\n",
      "  return n/db/n.sum(), bin_edges\n",
      "/home/ishang/miniconda3/envs/hpa-cc/lib/python3.9/site-packages/numpy/lib/histograms.py:885: RuntimeWarning: divide by zero encountered in divide\n",
      "  return n/db/n.sum(), bin_edges\n",
      "/home/ishang/miniconda3/envs/hpa-cc/lib/python3.9/site-packages/numpy/lib/histograms.py:885: RuntimeWarning: divide by zero encountered in divide\n",
      "  return n/db/n.sum(), bin_edges\n",
      "/home/ishang/miniconda3/envs/hpa-cc/lib/python3.9/site-packages/numpy/lib/histograms.py:885: RuntimeWarning: invalid value encountered in divide\n",
      "  return n/db/n.sum(), bin_edges\n",
      "/home/ishang/miniconda3/envs/hpa-cc/lib/python3.9/site-packages/numpy/lib/histograms.py:885: RuntimeWarning: divide by zero encountered in divide\n",
      "  return n/db/n.sum(), bin_edges\n",
      "/home/ishang/miniconda3/envs/hpa-cc/lib/python3.9/site-packages/numpy/lib/histograms.py:885: RuntimeWarning: invalid value encountered in divide\n",
      "  return n/db/n.sum(), bin_edges\n",
      "/home/ishang/miniconda3/envs/hpa-cc/lib/python3.9/site-packages/numpy/lib/histograms.py:885: RuntimeWarning: invalid value encountered in divide\n",
      "  return n/db/n.sum(), bin_edges\n",
      "/home/ishang/miniconda3/envs/hpa-cc/lib/python3.9/site-packages/numpy/lib/histograms.py:885: RuntimeWarning: invalid value encountered in divide\n",
      "  return n/db/n.sum(), bin_edges\n",
      "/home/ishang/miniconda3/envs/hpa-cc/lib/python3.9/site-packages/numpy/lib/histograms.py:885: RuntimeWarning: divide by zero encountered in divide\n",
      "  return n/db/n.sum(), bin_edges\n",
      "/home/ishang/miniconda3/envs/hpa-cc/lib/python3.9/site-packages/numpy/lib/histograms.py:885: RuntimeWarning: invalid value encountered in divide\n",
      "  return n/db/n.sum(), bin_edges\n",
      "/home/ishang/miniconda3/envs/hpa-cc/lib/python3.9/site-packages/numpy/lib/histograms.py:885: RuntimeWarning: divide by zero encountered in divide\n",
      "  return n/db/n.sum(), bin_edges\n",
      "/home/ishang/miniconda3/envs/hpa-cc/lib/python3.9/site-packages/numpy/lib/histograms.py:885: RuntimeWarning: invalid value encountered in divide\n",
      "  return n/db/n.sum(), bin_edges\n",
      "/home/ishang/miniconda3/envs/hpa-cc/lib/python3.9/site-packages/numpy/lib/histograms.py:885: RuntimeWarning: divide by zero encountered in divide\n",
      "  return n/db/n.sum(), bin_edges\n",
      "/home/ishang/miniconda3/envs/hpa-cc/lib/python3.9/site-packages/numpy/lib/histograms.py:885: RuntimeWarning: divide by zero encountered in divide\n",
      "  return n/db/n.sum(), bin_edges\n",
      "/home/ishang/miniconda3/envs/hpa-cc/lib/python3.9/site-packages/numpy/lib/histograms.py:885: RuntimeWarning: invalid value encountered in divide\n",
      "  return n/db/n.sum(), bin_edges\n",
      "/home/ishang/miniconda3/envs/hpa-cc/lib/python3.9/site-packages/numpy/lib/histograms.py:885: RuntimeWarning: invalid value encountered in divide\n",
      "  return n/db/n.sum(), bin_edges\n",
      "/home/ishang/miniconda3/envs/hpa-cc/lib/python3.9/site-packages/numpy/lib/histograms.py:885: RuntimeWarning: divide by zero encountered in divide\n",
      "  return n/db/n.sum(), bin_edges\n",
      "/home/ishang/miniconda3/envs/hpa-cc/lib/python3.9/site-packages/numpy/lib/histograms.py:885: RuntimeWarning: invalid value encountered in divide\n",
      "  return n/db/n.sum(), bin_edges\n",
      "/home/ishang/miniconda3/envs/hpa-cc/lib/python3.9/site-packages/numpy/lib/histograms.py:885: RuntimeWarning: divide by zero encountered in divide\n",
      "  return n/db/n.sum(), bin_edges\n",
      "/home/ishang/miniconda3/envs/hpa-cc/lib/python3.9/site-packages/numpy/lib/histograms.py:885: RuntimeWarning: invalid value encountered in divide\n",
      "  return n/db/n.sum(), bin_edges\n",
      "/home/ishang/miniconda3/envs/hpa-cc/lib/python3.9/site-packages/numpy/lib/histograms.py:885: RuntimeWarning: divide by zero encountered in divide\n",
      "  return n/db/n.sum(), bin_edges\n",
      "/home/ishang/miniconda3/envs/hpa-cc/lib/python3.9/site-packages/numpy/lib/histograms.py:885: RuntimeWarning: invalid value encountered in divide\n",
      "  return n/db/n.sum(), bin_edges\n",
      "Plotting Pseudotime distributions: 100%|██████████| 136/136 [00:21<00:00,  6.35it/s]\n"
     ]
    }
   ],
   "source": [
    "def process_well(well):\n",
    "    sc_images = torch.load(well / f\"images_{FUCCI_NAME}.pt\") # Cells x Channels x H x W\n",
    "    nuclei_masks = torch.load(well / f\"nuclei_masks_{FUCCI_NAME}.pt\") # Cells x H x W\n",
    "    sc_nuclei = sc_images * nuclei_masks[:, None]\n",
    "    mean_intensities = torch.sum(sc_nuclei[:, 2:], dim=(2, 3)) / torch.sum(nuclei_masks[:, None], dim=(2, 3)) # only calculating for GMNN and CDT1\n",
    "    min_nonzero_GMNN = torch.min(mean_intensities[:, 0][mean_intensities[:, 0] > 0])\n",
    "    min_nonzero_CDT1 = torch.min(mean_intensities[:, 1][mean_intensities[:, 1] > 0])\n",
    "    log_mean_GMNN = torch.log(mean_intensities[:, 0] + min_nonzero_GMNN)\n",
    "    log_mean_CDT1 = torch.log(mean_intensities[:, 1] + min_nonzero_CDT1)\n",
    "    log_mean_fucci_intensities = torch.stack((log_mean_GMNN, log_mean_CDT1), dim=1)\n",
    "    fucci_time, raw_time, well_std_int = intensities_to_pseudotime(log_mean_fucci_intensities.numpy())\n",
    "    raw_time = raw_time * 2 * np.pi - np.pi\n",
    "    return len(sc_images), log_mean_fucci_intensities, well_std_int, fucci_time, raw_time\n",
    "\n",
    "# plot a grid of the polar distrbution of each well\n",
    "n_wells = len(fucci_ds.well_list)\n",
    "if (OUTPUT_DIR / \"well_intensity_cache.pkl\").exists() and False:\n",
    "    cells_per_well, well_intensities, well_std_int, well_pseudotimes, well_angles = pkl.load(open(OUTPUT_DIR / \"well_intensity_cache.pkl\", \"rb\"))\n",
    "else:\n",
    "    with Pool(16) as pool:\n",
    "        results = list(tqdm(pool.imap(process_well, fucci_ds.well_list), total=n_wells, desc=\"Plotting Pseudotime distributions\"))\n",
    "\n",
    "    cells_per_well, well_intensities, well_std_int, well_pseudotimes, well_angles = zip(*results)\n",
    "    pkl.dump((cells_per_well, well_intensities, well_std_int, well_pseudotimes, well_angles), open(OUTPUT_DIR / \"well_intensity_cache.pkl\", \"wb\"))"
   ]
  },
  {
   "cell_type": "code",
   "execution_count": 13,
   "metadata": {},
   "outputs": [
    {
     "name": "stderr",
     "output_type": "stream",
     "text": [
      "Plotting Pseudotime Colors: 100%|██████████| 136/136 [00:07<00:00, 19.40it/s]\n"
     ]
    },
    {
     "data": {
      "text/plain": [
       "<Figure size 640x480 with 0 Axes>"
      ]
     },
     "metadata": {},
     "output_type": "display_data"
    }
   ],
   "source": [
    "n_col = 12\n",
    "n_row = math.ceil(n_wells / n_col)\n",
    "plt.clf()\n",
    "fig, axes = plt.subplots(n_row, n_col, figsize=(n_col * 4, n_row * 4), sharex=True, sharey=True)\n",
    "for i, well, cells, intensities, pseudotime in tqdm(zip(range(n_wells), fucci_ds.well_list, cells_per_well, well_intensities, well_pseudotimes), total=n_wells, desc=\"Plotting Pseudotime Colors\"):\n",
    "    ax = axes[i // n_col, i % n_col]\n",
    "    ax.set_title(f\"{well.name} n={cells}\")\n",
    "    ax.scatter(intensities[:, 0], intensities[:, 1], c=pseudotime, cmap=\"RdYlGn\")\n",
    "plt.show()\n",
    "plt.close()"
   ]
  },
  {
   "cell_type": "code",
   "execution_count": null,
   "metadata": {},
   "outputs": [],
   "source": [
    "bin_res = 0.05\n",
    "pseudotime_bins = np.arange(0, 1 + bin_res, bin_res)\n",
    "n_col = 12\n",
    "n_row = math.ceil(n_wells / n_col)\n",
    "plt.clf()\n",
    "fig, axes = plt.subplots(n_row, n_col, figsize=(n_col * 4, n_row * 4), sharex=True, sharey=True)\n",
    "for i, well, cells, intensities, pseudotime in zip(range(n_wells), fucci_ds.well_list, cells_per_well, well_intensities, well_pseudotimes):\n",
    "    binned_pseudotime = (np.digitize(pseudotime, pseudotime_bins) - 0.5) * bin_res\n",
    "    well_df = pd.DataFrame({\"GMNN\": intensities[:, 0], \"CDT1\": intensities[:, 1], \"pseudotime\": binned_pseudotime})\n",
    "    ax = axes[i // n_col, i % n_col]\n",
    "    ax.set_title(f\"{well.name} n={cells}\")\n",
    "    sns.lineplot(x=\"pseudotime\", y=\"GMNN\", data=well_df, ax=ax, color=\"green\")\n",
    "    sns.lineplot(x=\"pseudotime\", y=\"CDT1\", data=well_df, ax=ax, color=\"red\")\n",
    "plt.savefig(OUTPUT_DIR / \"average_intensity_pseudotime.png\")\n",
    "plt.close()"
   ]
  },
  {
   "cell_type": "code",
   "execution_count": null,
   "metadata": {},
   "outputs": [],
   "source": [
    "full_time, full_angles, full_std_int = intensities_to_pseudotime(np.concatenate(well_intensities))\n",
    "plt.clf()\n",
    "plt.hist(full_angles, bins=100)\n",
    "plt.xlabel(\"Angle\")\n",
    "plt.ylabel(\"Number of cells\")\n",
    "plt.title(f\"Bulk Pseudotime Angles\")\n",
    "plt.savefig(OUTPUT_DIR / \"bulk_pseudotime_angles.png\")\n",
    "plt.close()\n"
   ]
  },
  {
   "cell_type": "code",
   "execution_count": null,
   "metadata": {},
   "outputs": [],
   "source": [
    "\n",
    "n_col = 12\n",
    "n_row = math.ceil(n_wells / n_col)\n",
    "plt.clf()\n",
    "fig, axes = plt.subplots(n_row, n_col, figsize=(n_col * 4, n_row * 4), sharex=True, sharey=False)\n",
    "gmm_well_params = []\n",
    "sample_classes = []\n",
    "for i, well, cells, intensities, angles in tqdm(zip(range(n_wells), fucci_ds.well_list, cells_per_well, well_intensities, well_angles), total=n_wells, desc=\"Plotting Angular Distributions\"):\n",
    "    ax = axes[i // n_col, i % n_col]\n",
    "    ax.set_title(f\"{well.name} n={cells}\")\n",
    "    sns.histplot(angles, ax=ax, kde=False, stat=\"density\", bins=50)\n",
    "\n",
    "    gmm = GaussianMixture(n_components=3, covariance_type='spherical', n_init=10, init_params='k-means++')\n",
    "    gmm.fit(angles.reshape(-1, 1))\n",
    "\n",
    "    x = np.linspace(0, 1, 1000)\n",
    "    y = np.exp(gmm._estimate_weighted_log_prob(x.reshape(-1, 1)))\n",
    "\n",
    "    ax.plot(x, y[:, 0].flatten(), color='blue', label='Mode 1')\n",
    "    ax.plot(x, y[:, 1].flatten(), color='orange', label='Mode 2')\n",
    "    ax.plot(x, y[:, 2].flatten(), color='green', label='Mode 3')\n",
    "\n",
    "    likelihood = np.mean(gmm.score_samples(x.reshape(-1, 1)))\n",
    "    ax.set_title(f\"{well.name} n={cells} l={likelihood:.2f}\")\n",
    "    ax.legend()\n",
    "\n",
    "    weights, means, vars = gmm.weights_.copy(), gmm.means_.flatten().copy(), gmm.covariances_.flatten().copy()\n",
    "    # Sort the Gaussian components by means\n",
    "    sorted_indices = np.argsort(means)\n",
    "    weights = weights[sorted_indices]\n",
    "    means = means[sorted_indices]\n",
    "    vars = vars[sorted_indices]\n",
    "\n",
    "    gmm_well_params.append(np.concatenate([weights, means, vars]))\n",
    "    sample_classes.append(np.argmax(gmm._estimate_weighted_log_prob(angles.reshape(-1, 1))[:, sorted_indices], axis=1))\n",
    "plt.savefig(OUTPUT_DIR / \"angular_distribution.png\")\n",
    "plt.close()"
   ]
  },
  {
   "cell_type": "code",
   "execution_count": null,
   "metadata": {},
   "outputs": [],
   "source": [
    "n_col = 12\n",
    "n_row = math.ceil(n_wells / n_col)\n",
    "plt.clf()\n",
    "fig, axes = plt.subplots(n_row, n_col, figsize=(n_col * 4, n_row * 4), sharex=True, sharey=False)\n",
    "for i, well, cells, intensities, angles, sample_class in tqdm(zip(range(n_wells), fucci_ds.well_list, cells_per_well, well_intensities, well_angles, sample_classes), total=n_wells, desc=\"Plotting Sample Classes\"):\n",
    "    ax = axes[i // n_col, i % n_col]\n",
    "    ax.set_title(f\"{well.name} n={cells}\")\n",
    "    sns.scatterplot(x=intensities[:, 0], y=intensities[:, 1], hue=sample_class, ax=ax)\n",
    "plt.savefig(OUTPUT_DIR / \"sample_classes.png\")\n",
    "plt.close()"
   ]
  },
  {
   "cell_type": "code",
   "execution_count": null,
   "metadata": {},
   "outputs": [],
   "source": [
    "n_col = 12\n",
    "n_row = math.ceil(n_wells / n_col)\n",
    "plt.clf()\n",
    "fig, axes = plt.subplots(n_row, n_col, figsize=(n_col * 4, n_row * 4), sharex=True, sharey=False)\n",
    "for i, well, cells, intensities, angles, sample_class in tqdm(zip(range(n_wells), fucci_ds.well_list, cells_per_well, well_intensities, well_angles, sample_classes), total=n_wells, desc=\"Plotting Sample Classes\"):\n",
    "    ax = axes[i // n_col, i % n_col]\n",
    "    ax.set_title(f\"{well.name} n={cells}\")\n",
    "    sns.scatterplot(x=intensities[:, 0], y=intensities[:, 1], hue=sample_class, ax=ax)\n",
    "plt.savefig(OUTPUT_DIR / \"sample_classes.png\")\n",
    "plt.close()"
   ]
  },
  {
   "cell_type": "code",
   "execution_count": null,
   "metadata": {},
   "outputs": [],
   "source": [
    "\n",
    "gmm_well_params = np.array(gmm_well_params)\n",
    "print(\"Cluster Mean and Medians\")\n",
    "print(\"Mean:\\t\", np.mean(gmm_well_params, axis=0))\n",
    "print(\"StdDev:\\t\", np.std(gmm_well_params, axis=0))\n",
    "print(\"Median:\\t\", np.median(gmm_well_params, axis=0))\n",
    "pca = PCA(n_components=2)\n",
    "pca_result = pca.fit_transform(gmm_well_params)\n",
    "print(pca.explained_variance_ratio_)"
   ]
  },
  {
   "cell_type": "code",
   "execution_count": null,
   "metadata": {},
   "outputs": [],
   "source": [
    "plt.scatter(pca_result[:, 0], pca_result[:, 1])\n",
    "plt.xlabel(\"Principal Component 1\")\n",
    "plt.ylabel(\"Principal Component 2\")\n",
    "plt.title(\"PCA of GMM Well Parameters\")\n",
    "plt.savefig(OUTPUT_DIR / \"pca_gmm_well_params.png\")\n",
    "plt.close()"
   ]
  },
  {
   "cell_type": "code",
   "execution_count": null,
   "metadata": {},
   "outputs": [],
   "source": [
    "total_cells = np.sum(cells_per_well)\n",
    "plt.hist(cells_per_well)\n",
    "plt.xlabel(\"Number of cells per well\")\n",
    "plt.ylabel(\"Number of wells\")\n",
    "plt.title(f\"Distribution of Cells per Well in the FUCCI dataset (Total Cells: {total_cells})\")\n",
    "plt.savefig(OUTPUT_DIR / \"cells_per_well.png\")\n",
    "plt.close()"
   ]
  },
  {
   "cell_type": "code",
   "execution_count": null,
   "metadata": {},
   "outputs": [],
   "source": [
    "scopes = set([well.name.split(\"--\")[0] for well in fucci_ds.well_list])\n",
    "scope_gmms = {s: GaussianMixture(n_components=3, covariance_type='spherical', n_init=10, init_params='k-means++') for s in scopes}\n",
    "scope_angles = {s: [] for s in scopes}\n",
    "scope_mode_order = {}\n",
    "for i, well, angles in zip(range(n_wells), fucci_ds.well_list, well_angles):\n",
    "    scope = well.name.split(\"--\")[0]\n",
    "    scope_angles[scope].append(angles)\n",
    "for scope in scopes:\n",
    "    scope_angles[scope] = np.concatenate(scope_angles[scope])\n",
    "    scope_gmms[scope].fit(scope_angles[scope].reshape(-1, 1))\n",
    "    scope_mode_order[scope] = np.argsort(scope_gmms[scope].means_.flatten())\n",
    "scope_sample_classes = []\n",
    "for i, well, angles in tqdm(zip(range(n_wells), fucci_ds.well_list, well_angles), total=n_wells, desc=\"Predicting Scope-level Sample Classes\"):\n",
    "    scope = well.name.split(\"--\")[0]\n",
    "    sample_class = np.argmax(scope_gmms[scope]._estimate_weighted_log_prob(angles.reshape(-1, 1))[:, scope_mode_order[scope]], axis=1)\n",
    "    scope_sample_classes.append(sample_class)"
   ]
  },
  {
   "cell_type": "code",
   "execution_count": null,
   "metadata": {},
   "outputs": [],
   "source": [
    "n_col = 12\n",
    "n_row = math.ceil(n_wells / n_col)\n",
    "plt.clf()\n",
    "fig, axes = plt.subplots(n_row, n_col, figsize=(n_col * 4, n_row * 4), sharex=True, sharey=False)\n",
    "for i, well, cells, intensities, angles, scope_class, sample_class in tqdm(zip(range(n_wells), fucci_ds.well_list, cells_per_well, well_intensities, well_angles, scope_sample_classes, sample_classes), total=n_wells, desc=\"Plotting Scope-level Sample Classes\"):\n",
    "    ax = axes[i // n_col, i % n_col]\n",
    "    sns.scatterplot(x=intensities[:, 0], y=intensities[:, 1], hue=scope_class, ax=ax)\n",
    "    diff_sample_idxs = (sample_class != scope_class)\n",
    "    ax.scatter(intensities[diff_sample_idxs, 0], intensities[diff_sample_idxs, 1], marker='x', color='red', alpha=0.2)\n",
    "    ax.set_title(f\"{well.name} n={cells}, error={np.sum(diff_sample_idxs)}\")\n",
    "plt.savefig(OUTPUT_DIR / \"scope_sample_classes.png\")\n",
    "plt.close()\n",
    "\n",
    "# Save scope and well sample classes and gmms to file\n",
    "pkl.dump((scope_sample_classes, sample_classes, scope_gmms), open(OUTPUT_DIR / \"sample_classes_gmms.pkl\", \"wb\"))"
   ]
  }
 ],
 "metadata": {
  "kernelspec": {
   "display_name": "hpa-cc",
   "language": "python",
   "name": "python3"
  },
  "language_info": {
   "codemirror_mode": {
    "name": "ipython",
    "version": 3
   },
   "file_extension": ".py",
   "mimetype": "text/x-python",
   "name": "python",
   "nbconvert_exporter": "python",
   "pygments_lexer": "ipython3",
   "version": "3.9.18"
  }
 },
 "nbformat": 4,
 "nbformat_minor": 2
}
