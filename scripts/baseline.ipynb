{
 "cells": [
  {
   "cell_type": "code",
   "execution_count": 5,
   "metadata": {},
   "outputs": [],
   "source": [
    "from HPA_CC.data.dataset import RefCLSDM\n",
    "from config import FUCCI_DS_PATH"
   ]
  },
  {
   "cell_type": "code",
   "execution_count": 15,
   "metadata": {},
   "outputs": [
    {
     "name": "stdout",
     "output_type": "stream",
     "text": [
      "Loading /data/ishang/FUCCI-dataset-well/embeddings_minimal_dino_hpa.pt\n",
      "Loading /data/ishang/FUCCI-dataset-well/intensity_distributions_minimal.pt\n",
      "X shape before intensity stats: torch.Size([31737, 1536])\n",
      "X shape: torch.Size([31737, 2048])\n",
      "Loading /data/ishang/FUCCI-dataset-well/minimal_sample_phase_scope.pt\n",
      "Y shape: torch.Size([31737, 4])\n",
      "31737\n",
      "torch.Size([31737, 2048]) torch.Size([31737])\n"
     ]
    }
   ],
   "source": [
    "full_datamodule = RefCLSDM(FUCCI_DS_PATH, \"minimal\", 32, 1, \"phase\", split=(0.64, 0.16, 0.20), concat_well_stats=True, scope=True)\n",
    "print(len(full_datamodule.dataset))\n",
    "X, Y_raw = full_datamodule.dataset.X, full_datamodule.dataset.Y\n",
    "Y = Y_raw.argmax(axis=1)\n",
    "print(X.shape, Y.shape)"
   ]
  },
  {
   "cell_type": "code",
   "execution_count": 17,
   "metadata": {},
   "outputs": [
    {
     "name": "stdout",
     "output_type": "stream",
     "text": [
      "Accuracy: 57.75%\n",
      "[[  57   52    4   27]\n",
      " [  16 1656  376  202]\n",
      " [   9  550  689  480]\n",
      " [  15  358  593 1264]]\n"
     ]
    }
   ],
   "source": [
    "from sklearn.neighbors import KNeighborsClassifier\n",
    "from sklearn.model_selection import train_test_split\n",
    "from sklearn.metrics import accuracy_score\n",
    "from sklearn.metrics import confusion_matrix\n",
    "\n",
    "# Split the data into training and testing sets\n",
    "X_train, X_test, Y_train, Y_test = train_test_split(X, Y, test_size=0.2, random_state=42)\n",
    "\n",
    "# Create a KNN classifier\n",
    "knn = KNeighborsClassifier(n_neighbors=10)\n",
    "\n",
    "# Fit the classifier to the data\n",
    "knn.fit(X_train, Y_train)\n",
    "\n",
    "# Predict the labels for the test data\n",
    "Y_pred = knn.predict(X_test)\n",
    "\n",
    "# Evaluate the model\n",
    "accuracy = accuracy_score(Y_test, Y_pred)\n",
    "print(f\"Accuracy: {accuracy*100:.2f}%\")\n",
    "\n",
    "# Compute confusion matrix\n",
    "cm = confusion_matrix(Y_test, Y_pred)\n",
    "\n",
    "print(cm)\n",
    "\n"
   ]
  }
 ],
 "metadata": {
  "kernelspec": {
   "display_name": "hpa-cc-copy",
   "language": "python",
   "name": "python3"
  },
  "language_info": {
   "codemirror_mode": {
    "name": "ipython",
    "version": 3
   },
   "file_extension": ".py",
   "mimetype": "text/x-python",
   "name": "python",
   "nbconvert_exporter": "python",
   "pygments_lexer": "ipython3",
   "version": "3.9.18"
  }
 },
 "nbformat": 4,
 "nbformat_minor": 2
}
