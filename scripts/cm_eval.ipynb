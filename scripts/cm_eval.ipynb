{
 "cells": [
  {
   "cell_type": "code",
   "execution_count": 1,
   "metadata": {},
   "outputs": [],
   "source": [
    "%load_ext autoreload\n",
    "%autoreload 2\n",
    "from pathlib import Path\n",
    "import numpy as np\n",
    "import matplotlib.pyplot as plt\n",
    "import seaborn as sns\n",
    "import pandas as pd\n",
    "import torch\n",
    "from sklearn.metrics import confusion_matrix\n",
    "from HPA_CC.data.dataset import RefCLSDM, RefImDM, load_labels\n",
    "from HPA_CC.models.train import find_checkpoint_file, ClassifierLit, PseudoRegressorLit\n",
    "from HPA_CC.models.models import PseudoRegressor\n",
    "classes = [\"M-G1\", \"G1\", \"S-G2\", \"G2\"]"
   ]
  },
  {
   "cell_type": "code",
   "execution_count": 2,
   "metadata": {},
   "outputs": [],
   "source": [
    "log_dirs_home = Path(\"/data/ishang/pseudotime_pred/\")"
   ]
  },
  {
   "cell_type": "code",
   "execution_count": 3,
   "metadata": {},
   "outputs": [],
   "source": [
    "model_name = \"HPA DINO Classifier\"\n",
    "model_hash = \"1gu6u2qu\" # int focal scope\n",
    "# model_hash = \"ee9r9c1l\" # int soft focal\n",
    "# model_hash = \"sltskj1m\" # soft focal scope\n",
    "repr_type = \"hpa_dino\" # \"dino\", \"hpa_dino\", or \"conv\"\n",
    "ref_concat = True # for hpa_dino only, was this with concatenated cls tokens for each channel independently (default)\n",
    "int_stats = True # were intensity statistics added to the embedding? (not used from conv)\n",
    "label_type = \"phase\" # \"phase\", \"angle\", or \"pseudotime\"\n",
    "scope = True # Only used for phase"
   ]
  },
  {
   "cell_type": "code",
   "execution_count": 4,
   "metadata": {},
   "outputs": [],
   "source": [
    "# model_name = \"HPA DINO Angle Regressor\"\n",
    "# model_hash = \"u0livnza\"\n",
    "# repr_type = \"hpa_dino\" # \"dino\", \"hpa_dino\", or \"conv\"\n",
    "# ref_concat = True # for hpa_dino only, was this with concatenated cls tokens for each channel independently (default)\n",
    "# int_stats = True # were intensity statistics added to the embedding? (not used from conv)\n",
    "# label_type = \"angle\" # \"phase\", \"angle\", or \"pseudotime\"\n",
    "# scope = None"
   ]
  },
  {
   "cell_type": "code",
   "execution_count": 5,
   "metadata": {},
   "outputs": [],
   "source": [
    "# model_name = \"HPA DINO Pseudotime Regressor\"\n",
    "# model_hash = \"81peszw2\"\n",
    "# repr_type = \"hpa_dino\" # \"dino\", \"hpa_dino\", or \"conv\"\n",
    "# ref_concat = True # for hpa_dino only, was this with concatenated cls tokens for each channel independently (default)\n",
    "# int_stats = False # were intensity statistics added to the embedding? (not used from conv)\n",
    "# label_type = \"pseudotime\" # \"phase\", \"angle\", or \"pseudotime\"\n",
    "# scope = None"
   ]
  },
  {
   "cell_type": "code",
   "execution_count": 6,
   "metadata": {},
   "outputs": [],
   "source": [
    "split = (0.64, 0.16, 0.2)\n",
    "data_dir = Path(\"/data/ishang/FUCCI-dataset-well\")\n",
    "data_name = \"minimal\"\n",
    "device = \"cuda:0\""
   ]
  },
  {
   "cell_type": "code",
   "execution_count": 7,
   "metadata": {},
   "outputs": [
    {
     "ename": "NameError",
     "evalue": "name 'scope' is not defined",
     "output_type": "error",
     "traceback": [
      "\u001b[0;31m---------------------------------------------------------------------------\u001b[0m",
      "\u001b[0;31mNameError\u001b[0m                                 Traceback (most recent call last)",
      "Cell \u001b[0;32mIn[7], line 4\u001b[0m\n\u001b[1;32m      2\u001b[0m     dataset \u001b[38;5;241m=\u001b[39m RefImDM(data_dir, data_name, \u001b[38;5;241m32\u001b[39m, \u001b[38;5;241m1\u001b[39m, split, label_type, scope)\n\u001b[1;32m      3\u001b[0m \u001b[38;5;28;01melse\u001b[39;00m:\n\u001b[0;32m----> 4\u001b[0m     dataset \u001b[38;5;241m=\u001b[39m RefCLSDM(data_dir, data_name, \u001b[38;5;241m32\u001b[39m, \u001b[38;5;241m1\u001b[39m, split, (repr_type \u001b[38;5;241m==\u001b[39m \u001b[38;5;124m\"\u001b[39m\u001b[38;5;124mhpa_dino\u001b[39m\u001b[38;5;124m\"\u001b[39m), label_type, \u001b[43mscope\u001b[49m, int_stats)\n\u001b[1;32m      5\u001b[0m phase_labels \u001b[38;5;241m=\u001b[39m load_labels(\u001b[38;5;124m\"\u001b[39m\u001b[38;5;124mphase\u001b[39m\u001b[38;5;124m\"\u001b[39m, data_dir, data_name, scope\u001b[38;5;241m=\u001b[39m(\u001b[38;5;28;01mFalse\u001b[39;00m \u001b[38;5;28;01mif\u001b[39;00m scope \u001b[38;5;129;01mis\u001b[39;00m \u001b[38;5;28;01mNone\u001b[39;00m \u001b[38;5;28;01melse\u001b[39;00m \u001b[38;5;28;01mTrue\u001b[39;00m))\n",
      "\u001b[0;31mNameError\u001b[0m: name 'scope' is not defined"
     ]
    }
   ],
   "source": [
    "if repr_type == \"conv\":\n",
    "    dataset = RefImDM(data_dir, data_name, 32, 1, split, label_type, scope)\n",
    "else:\n",
    "    dataset = RefCLSDM(data_dir, data_name, 32, 1, split, (repr_type == \"hpa_dino\"), label_type, scope, int_stats)\n",
    "phase_labels = load_labels(\"phase\", data_dir, data_name, scope=(False if scope is None else True))"
   ]
  },
  {
   "cell_type": "code",
   "execution_count": null,
   "metadata": {},
   "outputs": [
    {
     "data": {
      "text/plain": [
       "ClassifierLit(\n",
       "  (model): Classifier(\n",
       "    (model): Sequential(\n",
       "      (0): Linear(in_features=2048, out_features=2048, bias=True)\n",
       "      (1): GELU(approximate='none')\n",
       "      (2): Linear(in_features=2048, out_features=4, bias=True)\n",
       "    )\n",
       "    (loss_fn): FocalLoss(alpha=None, gamma=2.0, ignore_index=-100, reduction='mean')\n",
       "  )\n",
       ")"
      ]
     },
     "execution_count": 24,
     "metadata": {},
     "output_type": "execute_result"
    }
   ],
   "source": [
    "checkpoint_file = find_checkpoint_file(model_hash, log_dirs_home, best=True)\n",
    "if label_type == \"phase\":\n",
    "    model = ClassifierLit.load_from_checkpoint(checkpoint_file)\n",
    "else:\n",
    "    model = PseudoRegressorLit.load_from_checkpoint(checkpoint_file)\n",
    "model.to(device)\n",
    "model.eval()\n"
   ]
  },
  {
   "cell_type": "code",
   "execution_count": null,
   "metadata": {},
   "outputs": [
    {
     "name": "stdout",
     "output_type": "stream",
     "text": [
      "(6346, 4) torch.Size([6346, 4]) torch.Size([6346, 4])\n"
     ]
    }
   ],
   "source": [
    "preds_list = []\n",
    "with torch.no_grad():\n",
    "    for batch in iter(dataset.test_dataloader()):\n",
    "        x, y = batch\n",
    "        x = x.to(device)\n",
    "        preds_list.append(model(x).cpu())\n",
    "preds_test = torch.cat(preds_list, dim=0).numpy()\n",
    "labels_test = dataset.dataset.Y[dataset.split_indices[\"test\"]]\n",
    "phase_labels_test = phase_labels[dataset.split_indices[\"test\"]]\n",
    "print(preds_test.shape, labels_test.shape, phase_labels_test.shape)"
   ]
  },
  {
   "cell_type": "code",
   "execution_count": null,
   "metadata": {},
   "outputs": [],
   "source": [
    "if label_type != \"phase\":\n",
    "    preds_list = []\n",
    "    with torch.no_grad():\n",
    "        for batch in iter(dataset.val_dataloader()):\n",
    "            x, y = batch\n",
    "            x = x.to(device)\n",
    "            preds_list.append(model(x).cpu())\n",
    "\n",
    "    preds_val = torch.cat(preds_list, dim=0)\n",
    "    preds_val = PseudoRegressor.angle_to_pseudo(preds_val).numpy().flatten()\n",
    "    labels_val = dataset.dataset.Y[dataset.split_indices[\"val\"]]\n",
    "    phase_labels_val = phase_labels[dataset.split_indices[\"val\"]]\n",
    "    phase_labels_val = np.argmax(phase_labels_val, axis=1)\n",
    "\n",
    "    bins = np.linspace(0, 1, 21)\n",
    "    binned_preds_val = np.digitize(preds_val, bins)\n",
    "\n",
    "    bins_round = np.round(bins, 2)\n",
    "    df = pd.DataFrame({'Binned Predictions': bins_round[binned_preds_val], 'Phase Labels': phase_labels_val})\n",
    "    crosstab = pd.crosstab(df['Binned Predictions'], df['Phase Labels'])\n",
    "    crosstab_normalized = crosstab.apply(lambda row: row / row.sum(), axis=1)\n",
    "    crosstab_normalized.plot.bar(stacked=True)\n",
    "    plt.xlabel('Binned Predictions')\n",
    "    plt.ylabel('Proportion')\n",
    "    plt.title('Proportion of Phase Labels for Binned Predictions')\n",
    "    plt.legend(title='Phase Labels')\n",
    "    plt.show()\n",
    "    plt.clf()\n",
    "\n",
    "    int_size = 75\n",
    "    x = np.linspace(0, 1, 100)\n",
    "    df = pd.DataFrame({'Predictions': preds_val, 'Label Angle': labels_val})\n",
    "    g = sns.jointplot(data=df, x='Predictions', y='Label Angle', kind='hex', marginal_kws=dict(bins=50))\n",
    "    ax = g.ax_joint\n",
    "    ax.plot(x, x, color='black', linestyle='--')\n",
    "    plt.show()\n"
   ]
  },
  {
   "cell_type": "code",
   "execution_count": null,
   "metadata": {},
   "outputs": [],
   "source": [
    "if label_type != \"phase\":\n",
    "    cutoffs = [0.0]\n",
    "    for label in np.unique(phase_labels_val):\n",
    "        cutoffs.append(torch.max(labels_val[phase_labels_val == label]).item())\n",
    "    cutoffs[-1] = 1.0\n",
    "    print(cutoffs)\n",
    "\n",
    "    # cutoffs = [0, 0.2, 0.5, 0.7, 1.0]\n",
    "    # cutoffs = [0, 0.05, 0.5, 0.7, 1.0]\n",
    "    colors = ['darkred', 'red', 'orange', 'green']\n",
    "    labels_val_n = labels_val.numpy()\n",
    "    bins = np.linspace(0, 1, 100)\n",
    "    for c in range(len(cutoffs) - 1):\n",
    "        cutoff_labels = labels_val_n[(labels_val_n < cutoffs[c+1]) & (labels_val_n > cutoffs[c])]\n",
    "        plt.hist(cutoff_labels, bins=bins, alpha=0.5, label=classes[c], color=colors[c])\n",
    "    plt.show()\n",
    "\n",
    "    plt.clf()\n",
    "    for c in range(len(cutoffs) - 1):\n",
    "        cutoff_labels = preds_val[(preds_val < cutoffs[c+1]) & (preds_val > cutoffs[c])]\n",
    "        plt.hist(cutoff_labels, bins=bins, alpha=0.5, label=classes[c], color=colors[c])\n",
    "    plt.show()"
   ]
  },
  {
   "cell_type": "code",
   "execution_count": null,
   "metadata": {},
   "outputs": [
    {
     "name": "stdout",
     "output_type": "stream",
     "text": [
      "(6346,) torch.Size([6346])\n"
     ]
    }
   ],
   "source": [
    "if label_type == \"phase\":\n",
    "    preds_test = np.argmax(preds_test, axis=1)\n",
    "    labels_test = np.argmax(labels_test, axis=1)\n",
    "    pred_phase_test = preds_test\n",
    "    label_phase_test = labels_test\n",
    "    print(preds_test.shape, labels_test.shape)\n",
    "else:\n",
    "    pred_labels_test = np.zeros_like(preds_test)\n",
    "    pred_pseudo_test = PseudoRegressor.angle_to_pseudo(torch.Tensor(preds_test)).numpy()\n",
    "    for c in range(len(cutoffs) - 1):\n",
    "        pred_labels_test[(pred_pseudo_test < cutoffs[c+1]) & (pred_pseudo_test > cutoffs[c])] = c\n",
    "    pred_phase_test = pred_labels_test\n",
    "    label_phase_test = np.argmax(phase_labels_test, axis=1)"
   ]
  },
  {
   "cell_type": "code",
   "execution_count": null,
   "metadata": {},
   "outputs": [
    {
     "data": {
      "image/png": "[encoded data removed]",
      "text/plain": [
       "<Figure size 640x480 with 2 Axes>"
      ]
     },
     "metadata": {},
     "output_type": "display_data"
    }
   ],
   "source": [
    "filler = np.arange(len(classes))\n",
    "preds_ = np.concatenate((pred_phase_test.flatten(), filler))\n",
    "labels_ = np.concatenate((label_phase_test.flatten(), filler))\n",
    "cm = confusion_matrix(labels_, preds_).astype(np.float32)\n",
    "cm = cm - np.identity(len(classes))\n",
    "cm = cm / np.sum(cm, axis=0, keepdims=True)\n",
    "ax = sns.heatmap(cm, annot=True, fmt=\".2f\", vmin=0, vmax=1.0)\n",
    "ax.set_xlabel(\"Predicted\")\n",
    "ax.xaxis.set_ticklabels(classes)\n",
    "ax.set_ylabel(\"True\")\n",
    "ax.yaxis.set_ticklabels(classes)\n",
    "plt.title(f\"Confusion Matrix for {model_name} (Normalized over Prediction Class)\")\n",
    "plt.show()"
   ]
  },
  {
   "cell_type": "code",
   "execution_count": null,
   "metadata": {},
   "outputs": [],
   "source": [
    "bins = np.linspace(0, 1, 26)\n",
    "preds_test_pseudo_n = PseudoRegressor.angle_to_pseudo(torch.Tensor(preds_test)).numpy()\n",
    "binned_preds_test = np.digitize(preds_test_pseudo_n, bins).flatten()\n",
    "if label_type != \"phase\":\n",
    "    label_phase_test_n = label_phase_test.numpy().flatten()\n",
    "    p_x_y = np.zeros((len(bins) - 1, len(classes)))\n",
    "    for i in range(len(bins) - 1):\n",
    "        for j in range(len(classes)):\n",
    "            p_x_y[i, j] = np.sum((binned_preds_test == i) & (label_phase_test_n == j))\n",
    "\n",
    "    # Probability of x given y\n",
    "    p_x_given_y = p_x_y / np.sum(p_x_y, axis=0, keepdims=True)\n",
    "    plt.figure(figsize=(10, 6))\n",
    "    ax = plt.gca()\n",
    "    for j in range(len(classes)):\n",
    "        ax.plot(bins[:-1], p_x_given_y[:, j], label=f'{classes[j]}')\n",
    "    plt.xlabel('Binned Predictions')\n",
    "    plt.ylabel('Probability')\n",
    "    plt.title('Probability of x given y')\n",
    "    plt.legend(title='Phase Labels')\n",
    "    plt.show()\n",
    "\n",
    "    # Probability of y given x\n",
    "    p_y_given_x = p_x_y / np.sum(p_x_y, axis=1, keepdims=True)\n",
    "    plt.figure(figsize=(10, 6))\n",
    "    ax = plt.gca()\n",
    "    for j in range(len(classes)):\n",
    "        sns.lineplot(x=bins[:-1], y=p_y_given_x[:, j], label=f'{classes[j]}', ax=ax)\n",
    "    ax2 = ax.twinx()\n",
    "    ax2.hist(preds_test_pseudo_n, bins=bins, alpha=0.2, label='Predictions', color='purple', density=True)\n",
    "    plt.xlabel('Phase Labels')\n",
    "    plt.ylabel('Probability')\n",
    "    plt.title('Probability of y given x')\n",
    "    plt.legend(title='Binned Predictions')\n",
    "    plt.show()\n"
   ]
  }
 ],
 "metadata": {
  "kernelspec": {
   "display_name": "hpa-cc-copy",
   "language": "python",
   "name": "python3"
  },
  "language_info": {
   "codemirror_mode": {
    "name": "ipython",
    "version": 3
   },
   "file_extension": ".py",
   "mimetype": "text/x-python",
   "name": "python",
   "nbconvert_exporter": "python",
   "pygments_lexer": "ipython3",
   "version": "3.9.18"
  }
 },
 "nbformat": 4,
 "nbformat_minor": 2
}
