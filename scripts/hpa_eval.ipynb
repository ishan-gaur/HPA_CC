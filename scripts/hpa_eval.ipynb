{
 "cells": [
  {
   "cell_type": "code",
   "execution_count": 5,
   "metadata": {},
   "outputs": [
    {
     "name": "stdout",
     "output_type": "stream",
     "text": [
      "The autoreload extension is already loaded. To reload it, use:\n",
      "  %reload_ext autoreload\n"
     ]
    }
   ],
   "source": [
    "%load_ext autoreload\n",
    "%autoreload 2\n",
    "from pathlib import Path\n",
    "import numpy as np\n",
    "import matplotlib.pyplot as plt\n",
    "import seaborn as sns\n",
    "import pandas as pd\n",
    "import torch\n",
    "from HPA_CC.data.dataset import RefCLSDM, load_labels\n",
    "from HPA_CC.models.train import find_checkpoint_file, PseudoRegressorLit\n",
    "from HPA_CC.models.utils import regressor_inference\n",
    "from HPA_CC.models.models import PseudoRegressor\n",
    "from HPA_CC.utils.pseudotime import stretch_time\n",
    "from config import HOME\n",
    "classes = [\"M-G1\", \"G1\", \"S-G2\", \"G2\"]"
   ]
  },
  {
   "cell_type": "code",
   "execution_count": 6,
   "metadata": {},
   "outputs": [
    {
     "name": "stdout",
     "output_type": "stream",
     "text": [
      "Index(['filename', 'jpg_prefix', 'if_plate_id', 'position', 'sample', 'status',\n",
      "       'Image status name', 'locations', 'staining characteristics',\n",
      "       'unspecific', 'antibody', 'ensembl_ids', 'gene_names', 'atlas_name',\n",
      "       'versions', 'earliest_version', 'first_released', 'latest_version',\n",
      "       'Spatial cell cycle', 'Intensity cell cycle', 'Annotated cell cycle',\n",
      "       'gain', 'x_pos', 'y_pos', 'z_pos', 'Experiment state', 'Ab state',\n",
      "       'Max tpm', 'Finished in genes', 'Protocol',\n",
      "       'Gene reliability (in release)', 'Gene reliability (lims)',\n",
      "       'Cell count', 'well_location_predictions_all'],\n",
      "      dtype='object')\n"
     ]
    },
    {
     "data": {
      "text/html": [
       "<div>\n",
       "<style scoped>\n",
       "    .dataframe tbody tr th:only-of-type {\n",
       "        vertical-align: middle;\n",
       "    }\n",
       "\n",
       "    .dataframe tbody tr th {\n",
       "        vertical-align: top;\n",
       "    }\n",
       "\n",
       "    .dataframe thead th {\n",
       "        text-align: right;\n",
       "    }\n",
       "</style>\n",
       "<table border=\"1\" class=\"dataframe\">\n",
       "  <thead>\n",
       "    <tr style=\"text-align: right;\">\n",
       "      <th></th>\n",
       "      <th>filename</th>\n",
       "      <th>jpg_prefix</th>\n",
       "      <th>if_plate_id</th>\n",
       "      <th>position</th>\n",
       "      <th>sample</th>\n",
       "      <th>status</th>\n",
       "      <th>Image status name</th>\n",
       "      <th>locations</th>\n",
       "      <th>staining characteristics</th>\n",
       "      <th>unspecific</th>\n",
       "      <th>...</th>\n",
       "      <th>z_pos</th>\n",
       "      <th>Experiment state</th>\n",
       "      <th>Ab state</th>\n",
       "      <th>Max tpm</th>\n",
       "      <th>Finished in genes</th>\n",
       "      <th>Protocol</th>\n",
       "      <th>Gene reliability (in release)</th>\n",
       "      <th>Gene reliability (lims)</th>\n",
       "      <th>Cell count</th>\n",
       "      <th>well_location_predictions_all</th>\n",
       "    </tr>\n",
       "  </thead>\n",
       "  <tbody>\n",
       "    <tr>\n",
       "      <th>0</th>\n",
       "      <td>/archive/1/1_A1_1_</td>\n",
       "      <td>https://lims.proteinatlas.org/images/992/1_A1_1_</td>\n",
       "      <td>1</td>\n",
       "      <td>A1</td>\n",
       "      <td>1</td>\n",
       "      <td>35</td>\n",
       "      <td>Annotated / Proteinatlas</td>\n",
       "      <td>Golgi apparatus</td>\n",
       "      <td>NaN</td>\n",
       "      <td>0.0</td>\n",
       "      <td>...</td>\n",
       "      <td>NaN</td>\n",
       "      <td>IF_FINISHED</td>\n",
       "      <td>IF_FINISHED</td>\n",
       "      <td>16.13</td>\n",
       "      <td>ENSG00000066455</td>\n",
       "      <td>PFA</td>\n",
       "      <td>Supported</td>\n",
       "      <td>Supported</td>\n",
       "      <td>7.0</td>\n",
       "      <td>NaN</td>\n",
       "    </tr>\n",
       "    <tr>\n",
       "      <th>1</th>\n",
       "      <td>/archive/1/1_A1_2_</td>\n",
       "      <td>https://lims.proteinatlas.org/images/992/1_A1_2_</td>\n",
       "      <td>1</td>\n",
       "      <td>A1</td>\n",
       "      <td>2</td>\n",
       "      <td>35</td>\n",
       "      <td>Annotated / Proteinatlas</td>\n",
       "      <td>Golgi apparatus</td>\n",
       "      <td>NaN</td>\n",
       "      <td>0.0</td>\n",
       "      <td>...</td>\n",
       "      <td>NaN</td>\n",
       "      <td>IF_FINISHED</td>\n",
       "      <td>IF_FINISHED</td>\n",
       "      <td>16.13</td>\n",
       "      <td>ENSG00000066455</td>\n",
       "      <td>PFA</td>\n",
       "      <td>Supported</td>\n",
       "      <td>Supported</td>\n",
       "      <td>6.0</td>\n",
       "      <td>NaN</td>\n",
       "    </tr>\n",
       "    <tr>\n",
       "      <th>2</th>\n",
       "      <td>/archive/1/1_A3_1_</td>\n",
       "      <td>https://lims.proteinatlas.org/images/2899/1_A3_1_</td>\n",
       "      <td>1</td>\n",
       "      <td>A3</td>\n",
       "      <td>1</td>\n",
       "      <td>35</td>\n",
       "      <td>Annotated / Proteinatlas</td>\n",
       "      <td>Cytosol,Nucleoplasm</td>\n",
       "      <td>NaN</td>\n",
       "      <td>0.0</td>\n",
       "      <td>...</td>\n",
       "      <td>NaN</td>\n",
       "      <td>IF_FINISHED</td>\n",
       "      <td>IF_FINISHED</td>\n",
       "      <td>2.74</td>\n",
       "      <td>ENSG00000183092</td>\n",
       "      <td>PFA</td>\n",
       "      <td>Approved</td>\n",
       "      <td>Approved</td>\n",
       "      <td>4.0</td>\n",
       "      <td>NaN</td>\n",
       "    </tr>\n",
       "    <tr>\n",
       "      <th>3</th>\n",
       "      <td>/archive/1/1_A3_2_</td>\n",
       "      <td>https://lims.proteinatlas.org/images/2899/1_A3_2_</td>\n",
       "      <td>1</td>\n",
       "      <td>A3</td>\n",
       "      <td>2</td>\n",
       "      <td>35</td>\n",
       "      <td>Annotated / Proteinatlas</td>\n",
       "      <td>Cytosol,Nucleoplasm</td>\n",
       "      <td>NaN</td>\n",
       "      <td>0.0</td>\n",
       "      <td>...</td>\n",
       "      <td>NaN</td>\n",
       "      <td>IF_FINISHED</td>\n",
       "      <td>IF_FINISHED</td>\n",
       "      <td>2.74</td>\n",
       "      <td>ENSG00000183092</td>\n",
       "      <td>PFA</td>\n",
       "      <td>Approved</td>\n",
       "      <td>Approved</td>\n",
       "      <td>6.0</td>\n",
       "      <td>NaN</td>\n",
       "    </tr>\n",
       "    <tr>\n",
       "      <th>4</th>\n",
       "      <td>/archive/1/1_A6_1_</td>\n",
       "      <td>https://lims.proteinatlas.org/images/609/1_A6_1_</td>\n",
       "      <td>1</td>\n",
       "      <td>A6</td>\n",
       "      <td>1</td>\n",
       "      <td>35</td>\n",
       "      <td>Annotated / Proteinatlas</td>\n",
       "      <td>Endoplasmic reticulum,Nuclear membrane</td>\n",
       "      <td>NaN</td>\n",
       "      <td>0.0</td>\n",
       "      <td>...</td>\n",
       "      <td>NaN</td>\n",
       "      <td>IF_FINISHED</td>\n",
       "      <td>IF_FINISHED</td>\n",
       "      <td>81.38</td>\n",
       "      <td>ENSG00000102119</td>\n",
       "      <td>PFA</td>\n",
       "      <td>Enhanced</td>\n",
       "      <td>Enhanced</td>\n",
       "      <td>5.0</td>\n",
       "      <td>NaN</td>\n",
       "    </tr>\n",
       "  </tbody>\n",
       "</table>\n",
       "<p>5 rows × 34 columns</p>\n",
       "</div>"
      ],
      "text/plain": [
       "             filename                                         jpg_prefix  \\\n",
       "0  /archive/1/1_A1_1_   https://lims.proteinatlas.org/images/992/1_A1_1_   \n",
       "1  /archive/1/1_A1_2_   https://lims.proteinatlas.org/images/992/1_A1_2_   \n",
       "2  /archive/1/1_A3_1_  https://lims.proteinatlas.org/images/2899/1_A3_1_   \n",
       "3  /archive/1/1_A3_2_  https://lims.proteinatlas.org/images/2899/1_A3_2_   \n",
       "4  /archive/1/1_A6_1_   https://lims.proteinatlas.org/images/609/1_A6_1_   \n",
       "\n",
       "   if_plate_id position  sample  status         Image status name  \\\n",
       "0            1       A1       1      35  Annotated / Proteinatlas   \n",
       "1            1       A1       2      35  Annotated / Proteinatlas   \n",
       "2            1       A3       1      35  Annotated / Proteinatlas   \n",
       "3            1       A3       2      35  Annotated / Proteinatlas   \n",
       "4            1       A6       1      35  Annotated / Proteinatlas   \n",
       "\n",
       "                                locations staining characteristics  \\\n",
       "0                         Golgi apparatus                      NaN   \n",
       "1                         Golgi apparatus                      NaN   \n",
       "2                     Cytosol,Nucleoplasm                      NaN   \n",
       "3                     Cytosol,Nucleoplasm                      NaN   \n",
       "4  Endoplasmic reticulum,Nuclear membrane                      NaN   \n",
       "\n",
       "   unspecific  ... z_pos Experiment state     Ab state Max tpm  \\\n",
       "0         0.0  ...   NaN      IF_FINISHED  IF_FINISHED   16.13   \n",
       "1         0.0  ...   NaN      IF_FINISHED  IF_FINISHED   16.13   \n",
       "2         0.0  ...   NaN      IF_FINISHED  IF_FINISHED    2.74   \n",
       "3         0.0  ...   NaN      IF_FINISHED  IF_FINISHED    2.74   \n",
       "4         0.0  ...   NaN      IF_FINISHED  IF_FINISHED   81.38   \n",
       "\n",
       "  Finished in genes  Protocol Gene reliability (in release)  \\\n",
       "0   ENSG00000066455       PFA                     Supported   \n",
       "1   ENSG00000066455       PFA                     Supported   \n",
       "2   ENSG00000183092       PFA                      Approved   \n",
       "3   ENSG00000183092       PFA                      Approved   \n",
       "4   ENSG00000102119       PFA                      Enhanced   \n",
       "\n",
       "   Gene reliability (lims) Cell count well_location_predictions_all  \n",
       "0                Supported        7.0                           NaN  \n",
       "1                Supported        6.0                           NaN  \n",
       "2                 Approved        4.0                           NaN  \n",
       "3                 Approved        6.0                           NaN  \n",
       "4                 Enhanced        5.0                           NaN  \n",
       "\n",
       "[5 rows x 34 columns]"
      ]
     },
     "execution_count": 6,
     "metadata": {},
     "output_type": "execute_result"
    }
   ],
   "source": [
    "df = pd.read_csv(HOME / 'data' / 'ifimages_v23.csv')\n",
    "print(df.columns)\n",
    "df.head()"
   ]
  },
  {
   "cell_type": "code",
   "execution_count": 12,
   "metadata": {},
   "outputs": [
    {
     "name": "stdout",
     "output_type": "stream",
     "text": [
      "['/archive/1/1_A1_1_' 'HPA000992' 'GOLGA5']\n"
     ]
    }
   ],
   "source": [
    "print(df[[\"filename\", \"antibody\", \"gene_names\"]].values[0])"
   ]
  },
  {
   "cell_type": "code",
   "execution_count": 18,
   "metadata": {},
   "outputs": [
    {
     "name": "stdout",
     "output_type": "stream",
     "text": [
      "['1_A1' '1_A1' '1_A3' ... '2172_F7' '2172_H8' '2172_H8']\n"
     ]
    }
   ],
   "source": [
    "def prefix_to_well(filename):\n",
    "    image_id = filename.split('/')[-1]\n",
    "    return '_'.join(image_id.split('_')[:2])\n",
    "\n",
    "df[\"well\"] = df[\"filename\"].apply(prefix_to_well)\n",
    "print(df[\"well\"].values)"
   ]
  },
  {
   "cell_type": "code",
   "execution_count": 19,
   "metadata": {},
   "outputs": [
    {
     "name": "stdout",
     "output_type": "stream",
     "text": [
      "/archive/91/91_H6_1_\n",
      "['91_H6' 'HPA008419' 'BUB1B']\n"
     ]
    }
   ],
   "source": [
    "CCD_prots = [\"DUSP19\", \"DUSP18\", \"PAPSS1\", \"N6AMT1\", \"PHLDB1\", \"FLI1\", \"TTC21B\", \"PC\", \"UGDH\", \n",
    "             \"ORC6\", \"ZNF32\", \"CCNE1\", \"CCNB1\", \"AURKB\", \"BUB1B\", \"DPH2\", \"GMNN\", \"CDT1\", \"ANLN\"]\n",
    "ccd_rows = df[\"gene_names\"].isin(CCD_prots) & df[\"atlas_name\"].isin([\"U2OS\"])\n",
    "ccd_df = df[ccd_rows]\n",
    "print(ccd_df[\"filename\"].values[0])\n",
    "print(ccd_df[[\"well\", \"antibody\", \"gene_names\"]].values[0])"
   ]
  },
  {
   "cell_type": "markdown",
   "metadata": {},
   "source": [
    "# Load Models"
   ]
  },
  {
   "cell_type": "code",
   "execution_count": 2,
   "metadata": {},
   "outputs": [],
   "source": [
    "log_dirs_home = Path(\"/data/ishang/pseudotime_pred/\")"
   ]
  },
  {
   "cell_type": "code",
   "execution_count": 3,
   "metadata": {},
   "outputs": [],
   "source": [
    "split = (0.64, 0.16, 0.2)\n",
    "data_dir = Path(\"/data/ishang/all_HPA-CC-dataset/\")\n",
    "data_name = \"minimal\"\n",
    "device = \"cuda:0\""
   ]
  },
  {
   "cell_type": "code",
   "execution_count": 4,
   "metadata": {},
   "outputs": [
    {
     "name": "stdout",
     "output_type": "stream",
     "text": [
      "Loading /data/ishang/FUCCI-dataset-well/embeddings_minimal_dino_hpa.pt\n",
      "Loading /data/ishang/FUCCI-dataset-well/intensity_distributions_minimal.pt\n",
      "X shape: torch.Size([31732, 1536])\n",
      "Loading /data/ishang/FUCCI-dataset-well/minimal_sample_angles.pt\n",
      "tensor(0., dtype=torch.float64) tensor(1., dtype=torch.float64)\n",
      "X shape: torch.Size([31732, 2048])\n",
      "Y shape: torch.Size([31732])\n"
     ]
    }
   ],
   "source": [
    "model_name = \"HPA DINO Angle Regressor\"\n",
    "model_hash = \"u0livnza\"\n",
    "repr_type = \"hpa_dino\" # \"dino\", \"hpa_dino\", or \"conv\"\n",
    "ref_concat = True # for hpa_dino only, was this with concatenated cls tokens for each channel independently (default)\n",
    "int_stats = True # were intensity statistics added to the embedding? (not used from conv)\n",
    "label_type = \"angle\" # \"phase\", \"angle\", or \"pseudotime\"\n",
    "scope = None\n",
    "checkpoint_file = find_checkpoint_file(model_hash, log_dirs_home, best=True)\n",
    "angular_model = PseudoRegressorLit.load_from_checkpoint(checkpoint_file)\n",
    "angular_model.to(device)\n",
    "angular_model.eval()\n",
    "angular_dataset = RefCLSDM(data_dir, data_name, 32, 1, split, (repr_type == \"hpa_dino\"), label_type, scope, int_stats)"
   ]
  },
  {
   "cell_type": "code",
   "execution_count": 5,
   "metadata": {},
   "outputs": [
    {
     "name": "stdout",
     "output_type": "stream",
     "text": [
      "Loading /data/ishang/FUCCI-dataset-well/embeddings_minimal_dino_hpa.pt\n",
      "Loading /data/ishang/FUCCI-dataset-well/minimal_sample_pseudotime.pt\n",
      "tensor(0., dtype=torch.float64) tensor(1., dtype=torch.float64)\n",
      "X shape: torch.Size([31732, 1536])\n",
      "Y shape: torch.Size([31732])\n"
     ]
    }
   ],
   "source": [
    "model_name = \"HPA DINO Pseudotime Regressor\"\n",
    "model_hash = \"81peszw2\"\n",
    "repr_type = \"hpa_dino\" # \"dino\", \"hpa_dino\", or \"conv\"\n",
    "ref_concat = True # for hpa_dino only, was this with concatenated cls tokens for each channel independently (default)\n",
    "int_stats = False # were intensity statistics added to the embedding? (not used from conv)\n",
    "label_type = \"pseudotime\" # \"phase\", \"angle\", or \"pseudotime\"\n",
    "scope = None\n",
    "checkpoint_file = find_checkpoint_file(model_hash, log_dirs_home, best=True)\n",
    "pseudo_model = PseudoRegressorLit.load_from_checkpoint(checkpoint_file)\n",
    "pseudo_model.to(device)\n",
    "pseudo_model.eval()\n",
    "pseudo_dataset = RefCLSDM(data_dir, data_name, 32, 1, split, (repr_type == \"hpa_dino\"), label_type, scope, int_stats)"
   ]
  },
  {
   "cell_type": "code",
   "execution_count": 6,
   "metadata": {},
   "outputs": [
    {
     "name": "stdout",
     "output_type": "stream",
     "text": [
      "Loading /data/ishang/FUCCI-dataset-well/minimal_sample_phase.pt\n",
      "Loading /data/ishang/FUCCI-dataset-well/minimal_sample_pseudotime.pt\n"
     ]
    },
    {
     "name": "stderr",
     "output_type": "stream",
     "text": [
      "/home/ishang/miniconda3/envs/hpa-cc-copy/lib/python3.9/site-packages/torch/_inductor/compile_fx.py:135: UserWarning: TensorFloat32 tensor cores for float32 matrix multiplication available but not enabled. Consider setting `torch.set_float32_matmul_precision('high')` for better performance.\n",
      "  warnings.warn(\n"
     ]
    }
   ],
   "source": [
    "phase_labels = load_labels(\"phase\", data_dir, data_name, scope=(False if scope is None else True))\n",
    "pseudo_labels = load_labels(\"pseudotime\", data_dir, data_name)\n",
    "angular_preds = regressor_inference(angular_model, angular_dataset.shared_dataloader(angular_dataset.dataset))\n",
    "pseudo_preds = regressor_inference(pseudo_model, pseudo_dataset.shared_dataloader(pseudo_dataset.dataset))"
   ]
  },
  {
   "cell_type": "code",
   "execution_count": null,
   "metadata": {},
   "outputs": [],
   "source": []
  }
 ],
 "metadata": {
  "kernelspec": {
   "display_name": "hpa-cc-copy",
   "language": "python",
   "name": "python3"
  },
  "language_info": {
   "codemirror_mode": {
    "name": "ipython",
    "version": 3
   },
   "file_extension": ".py",
   "mimetype": "text/x-python",
   "name": "python",
   "nbconvert_exporter": "python",
   "pygments_lexer": "ipython3",
   "version": "3.9.18"
  }
 },
 "nbformat": 4,
 "nbformat_minor": 2
}
