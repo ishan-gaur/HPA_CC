{
 "cells": [
  {
   "cell_type": "code",
   "execution_count": 21,
   "metadata": {},
   "outputs": [],
   "source": [
    "import jax\n",
    "import jax.numpy as jnp\n",
    "import numpy as np\n",
    "\n",
    "import matplotlib.pyplot as plt\n",
    "from matplotlib.colors import LogNorm\n",
    "\n",
    "from ott.geometry import costs\n",
    "from ott.problems.linear import barycenter_problem\n",
    "from ott.solvers.linear import continuous_barycenter\n",
    "from ott.tools.gaussian_mixture import gaussian_mixture"
   ]
  },
  {
   "cell_type": "code",
   "execution_count": 22,
   "metadata": {},
   "outputs": [],
   "source": [
    "dim = 2  # the dimension of the Gaussians\n",
    "n_components = (2, 3, 5)  # the number of components of the GMMs\n",
    "# the number of GMMs whose barycenter will be computed\n",
    "n_gmms = len(n_components)\n",
    "epsilon = 0.1  # the entropy regularization parameter\n",
    "# generate the pseudo-random keys that will be needed\n",
    "key = jax.random.PRNGKey(seed=0)\n",
    "keys = jax.random.split(key, num=3)\n",
    "alpha = 50.0  # the concentration parameter of Dirichlet\n",
    "barycentric_weights = jax.random.dirichlet(\n",
    "    keys[0], alpha=jnp.ones(n_gmms) * alpha\n",
    ")\n",
    "# Create the seeds for the random generation of each measure.\n",
    "seeds = jax.random.randint(keys[1], shape=(n_gmms,), minval=0, maxval=100)"
   ]
  },
  {
   "cell_type": "code",
   "execution_count": 27,
   "metadata": {},
   "outputs": [
    {
     "name": "stdout",
     "output_type": "stream",
     "text": [
      "(3, 2)\n",
      "(3,)\n",
      "(3,)\n"
     ]
    }
   ],
   "source": [
    "# Offsets for the means of each GMM\n",
    "cs = jnp.array([[-20, -15], [60, -15], [50, 65]])\n",
    "print(cs.shape)\n",
    "ms = 0.1 * jnp.mean(cs, axis=1)\n",
    "print(ms.shape)\n",
    "# parameter that controls the covariance matrices\n",
    "ss = jnp.array([4, 3, 5])\n",
    "print(ss.shape)"
   ]
  },
  {
   "cell_type": "code",
   "execution_count": 24,
   "metadata": {},
   "outputs": [],
   "source": [
    "assert cs.shape[0] == n_gmms\n",
    "assert ss.size == n_gmms\n",
    "assert seeds.size == n_gmms\n",
    "assert len(n_components) == n_gmms\n",
    "assert jnp.mean(cs, axis=1).all() > 0\n",
    "assert ss.all() > 0"
   ]
  },
  {
   "cell_type": "code",
   "execution_count": 28,
   "metadata": {},
   "outputs": [
    {
     "name": "stdout",
     "output_type": "stream",
     "text": [
      "<class 'ott.tools.gaussian_mixture.gaussian_mixture.GaussianMixture'>\n"
     ]
    }
   ],
   "source": [
    "gmm_generators = [\n",
    "    gaussian_mixture.GaussianMixture.from_random(\n",
    "        jax.random.PRNGKey(seeds[i]),\n",
    "        n_components=n_components[i],\n",
    "        n_dimensions=dim,\n",
    "        stdev_cov=ss[i],\n",
    "        stdev_mean=ms[i],\n",
    "        ridge=cs[i],\n",
    "    )\n",
    "    for i in range(n_gmms)\n",
    "]\n",
    "print(type(gmm_generators[0]))"
   ]
  },
  {
   "cell_type": "code",
   "execution_count": 26,
   "metadata": {},
   "outputs": [
    {
     "name": "stdout",
     "output_type": "stream",
     "text": [
      "3 2 (2, 2) (2, 2, 2)\n"
     ]
    }
   ],
   "source": [
    "# get the means and covariances of the GMMs\n",
    "means_covs = [\n",
    "    (gmm_generators[i].loc, gmm_generators[i].covariance) for i in range(n_gmms)\n",
    "]\n",
    "print(len(means_covs), len(means_covs[0]), means_covs[0][0].shape, means_covs[0][1].shape)"
   ]
  },
  {
   "cell_type": "code",
   "execution_count": null,
   "metadata": {},
   "outputs": [],
   "source": []
  }
 ],
 "metadata": {
  "kernelspec": {
   "display_name": "hpa-cc",
   "language": "python",
   "name": "python3"
  },
  "language_info": {
   "codemirror_mode": {
    "name": "ipython",
    "version": 3
   },
   "file_extension": ".py",
   "mimetype": "text/x-python",
   "name": "python",
   "nbconvert_exporter": "python",
   "pygments_lexer": "ipython3",
   "version": "3.9.18"
  }
 },
 "nbformat": 4,
 "nbformat_minor": 2
}
